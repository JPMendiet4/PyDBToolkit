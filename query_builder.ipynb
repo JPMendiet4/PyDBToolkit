{
 "cells": [
  {
   "cell_type": "code",
   "id": "initial_id",
   "metadata": {
    "collapsed": true,
    "ExecuteTime": {
     "end_time": "2024-07-17T03:34:28.639590Z",
     "start_time": "2024-07-17T03:34:28.595153Z"
    }
   },
   "source": [
    "import psycopg2\n",
    "from dotenv import load_dotenv\n",
    "import os\n",
    "\n",
    "from pypika import Query, Table, functions, Order"
   ],
   "outputs": [],
   "execution_count": 1
  },
  {
   "metadata": {},
   "cell_type": "markdown",
   "source": "# Cargar variables de entorno, establecer conexión con la base de datos y ejecutar una consulta SQL",
   "id": "fe2e1498f7a6d321"
  },
  {
   "metadata": {
    "ExecuteTime": {
     "end_time": "2024-07-17T03:34:56.979973Z",
     "start_time": "2024-07-17T03:34:56.864292Z"
    }
   },
   "cell_type": "code",
   "source": [
    "def main():\n",
    "\n",
    "    load_dotenv()\n",
    "\n",
    "    conn = psycopg2.connect(\n",
    "        dbname=os.getenv('DB_NAME'),\n",
    "        user=os.getenv('DB_USER'),\n",
    "        password=os.getenv('DB_PASS'),\n",
    "        host=os.getenv('DB_HOST'),\n",
    "        port=os.getenv('DB_PORT'),\n",
    "    )\n",
    "    cur = conn.cursor()\n",
    "\n",
    "    cars = Table(\"cars\")\n",
    "    engines = Table(\"engines\")\n",
    "\n",
    "    query = (\n",
    "        Query.from_(cars)\n",
    "        .join(engines)\n",
    "        .on(cars.engine_name == engines.name)\n",
    "        .where(cars.country != \"USA\")\n",
    "        .groupby(cars.country, cars.year)\n",
    "        .having(functions.Max(engines.horse_power) > 200)\n",
    "        .orderby(functions.Max(engines.horse_power), order=Order.desc)\n",
    "        .select(\n",
    "            cars.country,\n",
    "            cars.year,\n",
    "            functions.Max(engines.horse_power).as_(\"max_horse_power\")\n",
    "        )\n",
    "    )\n",
    "\n",
    "    sql = query.get_sql()\n",
    "\n",
    "    cur.execute(sql)\n",
    "    res = cur.fetchall()\n",
    "    print(res)\n",
    "\n",
    "    cur.close()\n",
    "    conn.close()\n",
    "\n",
    "if __name__ == \"__main__\":\n",
    "    main()"
   ],
   "id": "c0f6e0582551b703",
   "outputs": [
    {
     "name": "stdout",
     "output_type": "stream",
     "text": [
      "[('Germany', 2019, 612), ('UK', 2019, 612), ('Germany', 2021, 510), ('Germany', 2023, 469)]\n"
     ]
    }
   ],
   "execution_count": 3
  },
  {
   "metadata": {},
   "cell_type": "code",
   "outputs": [],
   "execution_count": null,
   "source": "",
   "id": "3de67c6dfe4ac893"
  }
 ],
 "metadata": {
  "kernelspec": {
   "display_name": "Python 3",
   "language": "python",
   "name": "python3"
  },
  "language_info": {
   "codemirror_mode": {
    "name": "ipython",
    "version": 2
   },
   "file_extension": ".py",
   "mimetype": "text/x-python",
   "name": "python",
   "nbconvert_exporter": "python",
   "pygments_lexer": "ipython2",
   "version": "2.7.6"
  }
 },
 "nbformat": 4,
 "nbformat_minor": 5
}
