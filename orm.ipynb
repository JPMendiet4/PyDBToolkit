{
 "cells": [
  {
   "cell_type": "code",
   "id": "initial_id",
   "metadata": {
    "collapsed": true,
    "ExecuteTime": {
     "end_time": "2024-07-17T04:11:36.952825Z",
     "start_time": "2024-07-17T04:11:36.691195Z"
    }
   },
   "source": [
    "from dotenv import load_dotenv\n",
    "import os\n",
    "\n",
    "from sqlalchemy import URL, create_engine, func, select\n",
    "from sqlalchemy.orm import DeclarativeBase, Mapped, Session, mapped_column\n",
    "from sqlalchemy.types import Integer, String"
   ],
   "outputs": [],
   "execution_count": 1
  },
  {
   "metadata": {},
   "cell_type": "markdown",
   "source": "# Cargar variables de entorno, establecer conexión con la base de datos y ejecutar una consulta SQL",
   "id": "33af0aad5d41aa9a"
  },
  {
   "metadata": {
    "ExecuteTime": {
     "end_time": "2024-07-17T04:13:20.944836Z",
     "start_time": "2024-07-17T04:13:20.814978Z"
    }
   },
   "cell_type": "code",
   "source": [
    "class Base(DeclarativeBase):\n",
    "    pass\n",
    "\n",
    "class Cars(Base):\n",
    "    __tablename__ = \"cars\"\n",
    "\n",
    "    manufacturer: Mapped[str] = mapped_column(String(64))\n",
    "    model: Mapped[str] = mapped_column(String(64))\n",
    "    country: Mapped[str] = mapped_column(String(64))\n",
    "    engine_name: Mapped[str] = mapped_column(String(64), primary_key=True, nullable=False)\n",
    "    year: Mapped[int] = mapped_column(Integer)\n",
    "\n",
    "class Engines(Base):\n",
    "    __tablename__ = \"engines\"\n",
    "\n",
    "    name: Mapped[str] = mapped_column(String(64), primary_key=True, nullable=False)\n",
    "    horse_power: Mapped[int] = mapped_column(Integer)\n",
    "\n",
    "\n",
    "def main():\n",
    "\n",
    "    load_dotenv()\n",
    "\n",
    "    connection_string = URL.create(\n",
    "        'postgresql',\n",
    "        username=os.getenv('DB_USER'),\n",
    "        password=os.getenv('DB_PASS'),\n",
    "        host=os.getenv('DB_HOST'),\n",
    "        database=os.getenv('DB_NAME'),\n",
    "        #connect_args={'sslmode':'require'}\n",
    "    )\n",
    "\n",
    "    engine = create_engine(connection_string)\n",
    "    session = Session(engine)\n",
    "\n",
    "    sql = (\n",
    "        select(\n",
    "            Cars.country,\n",
    "            Cars.year,\n",
    "            func.max(Engines.horse_power).label(\"max_horse_power\"),\n",
    "        )\n",
    "        .join(Engines, Cars.engine_name == Engines.name)\n",
    "        .where(Cars.country != 'USA')\n",
    "        .group_by(Cars.country, Cars.year)\n",
    "        .having(func.max(Engines.horse_power) > 200)\n",
    "        .order_by(func.max(Engines.horse_power).label(\"max_horse_power\").desc())\n",
    "    )\n",
    "\n",
    "    for i in session.execute(sql):\n",
    "        print(i)\n",
    "\n",
    "if __name__ == '__main__':\n",
    "    main()"
   ],
   "id": "3362cfdcf27ff117",
   "outputs": [
    {
     "name": "stdout",
     "output_type": "stream",
     "text": [
      "('Germany', 2019, 612)\n",
      "('UK', 2019, 612)\n",
      "('Germany', 2021, 510)\n",
      "('Germany', 2023, 469)\n"
     ]
    }
   ],
   "execution_count": 3
  },
  {
   "metadata": {},
   "cell_type": "code",
   "outputs": [],
   "execution_count": null,
   "source": "",
   "id": "e0d1a3c5412a1592"
  }
 ],
 "metadata": {
  "kernelspec": {
   "display_name": "Python 3",
   "language": "python",
   "name": "python3"
  },
  "language_info": {
   "codemirror_mode": {
    "name": "ipython",
    "version": 2
   },
   "file_extension": ".py",
   "mimetype": "text/x-python",
   "name": "python",
   "nbconvert_exporter": "python",
   "pygments_lexer": "ipython2",
   "version": "2.7.6"
  }
 },
 "nbformat": 4,
 "nbformat_minor": 5
}
