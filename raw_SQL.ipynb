{
 "cells": [
  {
   "cell_type": "code",
   "id": "initial_id",
   "metadata": {
    "collapsed": true,
    "ExecuteTime": {
     "end_time": "2024-07-17T03:26:10.711371Z",
     "start_time": "2024-07-17T03:26:10.597976Z"
    }
   },
   "source": [
    "import psycopg2\n",
    "from dotenv import load_dotenv\n",
    "import os\n",
    "from pathlib import Path"
   ],
   "outputs": [],
   "execution_count": 2
  },
  {
   "metadata": {},
   "cell_type": "markdown",
   "source": "# Cargar variables de entorno, establecer conexión con la base de datos y ejecutar una consulta SQL",
   "id": "8dfed768dc4f5b6f"
  },
  {
   "metadata": {
    "ExecuteTime": {
     "end_time": "2024-07-17T03:26:10.794744Z",
     "start_time": "2024-07-17T03:26:10.712711Z"
    }
   },
   "cell_type": "code",
   "source": [
    "def main():\n",
    "\n",
    "    load_dotenv()\n",
    "\n",
    "    conn = psycopg2.connect(\n",
    "        dbname=os.getenv('DB_NAME'),\n",
    "        user=os.getenv('DB_USER'),\n",
    "        password=os.getenv('DB_PASS'),\n",
    "        host=os.getenv('DB_HOST'),\n",
    "        port=os.getenv('DB_PORT'),\n",
    "    )\n",
    "    cur = conn.cursor()\n",
    "    \n",
    "    sql = Path('sql/query.sql').read_text()\n",
    "\n",
    "    cur.execute(sql)\n",
    "    res = cur.fetchall()\n",
    "    print(res)\n",
    "\n",
    "    cur.close()\n",
    "    conn.close()\n",
    "    \n",
    "if __name__ == '__main__':\n",
    "    main()"
   ],
   "id": "e276563d51d4970d",
   "outputs": [
    {
     "name": "stdout",
     "output_type": "stream",
     "text": [
      "[('Germany', 2019, 612), ('UK', 2019, 612), ('Germany', 2021, 510), ('Germany', 2023, 469)]\n"
     ]
    }
   ],
   "execution_count": 3
  }
 ],
 "metadata": {
  "kernelspec": {
   "display_name": "Python 3",
   "language": "python",
   "name": "python3"
  },
  "language_info": {
   "codemirror_mode": {
    "name": "ipython",
    "version": 2
   },
   "file_extension": ".py",
   "mimetype": "text/x-python",
   "name": "python",
   "nbconvert_exporter": "python",
   "pygments_lexer": "ipython2",
   "version": "2.7.6"
  }
 },
 "nbformat": 4,
 "nbformat_minor": 5
}
